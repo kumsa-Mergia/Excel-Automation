{
 "cells": [
  {
   "cell_type": "code",
   "execution_count": null,
   "id": "2420607f-f0e8-475c-970a-a2ef4009a175",
   "metadata": {},
   "outputs": [],
   "source": [
    "import pandas as pd"
   ]
  },
  {
   "cell_type": "markdown",
   "id": "3b02bbac-b623-484c-bafb-b0aad0948e66",
   "metadata": {},
   "source": [
    "# Specify the file path"
   ]
  },
  {
   "cell_type": "code",
   "execution_count": null,
   "id": "9cc84289-8922-4dc5-b016-21d8b58b2e70",
   "metadata": {},
   "outputs": [],
   "source": [
    "file_path = r\"C:\\Users\\kumsam\\Desktop\\Excel-Automation\\file\\Large_Excel_Automation_Practice.xlsx\""
   ]
  },
  {
   "cell_type": "markdown",
   "id": "39d5532a-6f27-4912-8d44-aeba71d46047",
   "metadata": {},
   "source": [
    "# Step 1: Load the data"
   ]
  },
  {
   "cell_type": "code",
   "execution_count": null,
   "id": "67a9cf59-aed2-478d-b465-aa936d3fe3f3",
   "metadata": {},
   "outputs": [],
   "source": [
    "try:\n",
    "    sales_data = pd.read_excel(file_path, sheet_name=\"Sales Data\")\n",
    "    print(\"Data loaded successfully!\")\n",
    "except Exception as e:\n",
    "    print(f\"Error loading data: {e}\")"
   ]
  },
  {
   "cell_type": "markdown",
   "id": "6442ed37-6707-453b-a534-06f85b0acf1e",
   "metadata": {},
   "source": [
    "# Step 2: Check the data"
   ]
  },
  {
   "cell_type": "code",
   "execution_count": null,
   "id": "a9735036-6fde-48d6-9608-3c8290f2f371",
   "metadata": {},
   "outputs": [],
   "source": [
    "print(\"Shape of data:\", sales_data.shape)"
   ]
  },
  {
   "cell_type": "markdown",
   "id": "57f61d56-eec9-43ca-a4ff-297bf90b6bac",
   "metadata": {},
   "source": [
    "### All rows of data"
   ]
  },
  {
   "cell_type": "code",
   "execution_count": null,
   "id": "19ae8886-a905-4bb9-b0b8-3114935cf912",
   "metadata": {},
   "outputs": [],
   "source": [
    "print(\"All rows of data:\\n\", sales_data"
   ]
  },
  {
   "cell_type": "markdown",
   "id": "46cb1f12-63dd-4f4c-92f2-3b783729ca43",
   "metadata": {},
   "source": [
    "### First few rows of data"
   ]
  },
  {
   "cell_type": "code",
   "execution_count": null,
   "id": "4762d88a-b2bf-46a7-9881-1aa30e01a8c1",
   "metadata": {},
   "outputs": [],
   "source": [
    "print(\"First few rows of data:\\n\", sales_data.head())"
   ]
  },
  {
   "cell_type": "markdown",
   "id": "c1429770-c614-411b-a0c5-14d20ecfbf0e",
   "metadata": {},
   "source": [
    "# Step 3: Check column names"
   ]
  },
  {
   "cell_type": "code",
   "execution_count": null,
   "id": "58d29c98-d987-419e-acfd-339eef7ea993",
   "metadata": {},
   "outputs": [],
   "source": [
    "print(\"Columns in the dataset:\", sales_data.columns)"
   ]
  },
  {
   "cell_type": "markdown",
   "id": "56894054-f4ae-4bda-9135-bbfd0b8661a3",
   "metadata": {},
   "source": [
    "# Step 4: Check for missing values"
   ]
  },
  {
   "cell_type": "code",
   "execution_count": null,
   "id": "59ce8258-f67d-470b-9a15-b60516823c51",
   "metadata": {},
   "outputs": [],
   "source": [
    "print(\"Missing values:\\n\", sales_data.isnull().sum())"
   ]
  },
  {
   "cell_type": "markdown",
   "id": "f97e3392-5c39-4499-b3b1-c966da7c5460",
   "metadata": {},
   "source": [
    "# Step 5: Drop rows with missing 'Quantity' or 'Price'"
   ]
  },
  {
   "cell_type": "code",
   "execution_count": null,
   "id": "ea8d5978-592f-4f45-80de-7f8526160a49",
   "metadata": {},
   "outputs": [],
   "source": [
    "sales_data = sales_data.dropna(subset=['Quantity', 'Price'])"
   ]
  },
  {
   "cell_type": "markdown",
   "id": "04e91940-83fe-42b9-81df-f2b62ade00a1",
   "metadata": {},
   "source": [
    "# Step 6: Convert 'Quantity' and 'Price' to numeric"
   ]
  },
  {
   "cell_type": "code",
   "execution_count": null,
   "id": "86ce41cc-1e06-4b29-b3b1-254e9a948eeb",
   "metadata": {},
   "outputs": [],
   "source": [
    "sales_data['Quantity'] = pd.to_numeric(sales_data['Quantity'], errors='coerce')\n",
    "sales_data['Price'] = pd.to_numeric(sales_data['Price'], errors='coerce')"
   ]
  },
  {
   "cell_type": "markdown",
   "id": "8827d137-763c-415b-b526-0976e4eef6f0",
   "metadata": {},
   "source": [
    "# Step 7: Check for missing values after conversion"
   ]
  },
  {
   "cell_type": "code",
   "execution_count": null,
   "id": "c82b5a0f-a8f5-4a85-b554-731d2e0cc42c",
   "metadata": {},
   "outputs": [],
   "source": [
    "print(\"Missing values after conversion:\\n\", sales_data.isnull().sum())"
   ]
  },
  {
   "cell_type": "markdown",
   "id": "d635f856-afd7-4b8f-80d1-b54cf64dbf65",
   "metadata": {},
   "source": [
    "# Step 8: Add 'Total Revenue' column"
   ]
  },
  {
   "cell_type": "code",
   "execution_count": null,
   "id": "eab5d60e-ab9e-4019-8f31-2cba950e3ca9",
   "metadata": {},
   "outputs": [],
   "source": [
    "sales_data['Total Revenue'] = sales_data['Quantity'] * sales_data['Price']\n",
    "print(\"First few rows after adding 'Total Revenue':\\n\", sales_data.head())"
   ]
  },
  {
   "cell_type": "markdown",
   "id": "b34386f0-ff9e-4bab-b281-7e371e4e6742",
   "metadata": {},
   "source": [
    "# Step 9: Summarize revenue by product"
   ]
  },
  {
   "cell_type": "code",
   "execution_count": null,
   "id": "0585351a-0502-489c-abe0-b0ec2c0e5d85",
   "metadata": {},
   "outputs": [],
   "source": [
    "revenue_by_product = sales_data.groupby('Product')['Total Revenue'].sum()"
   ]
  },
  {
   "cell_type": "markdown",
   "id": "4af4fe91-d2e2-44fc-92c1-c7913d860f7c",
   "metadata": {},
   "source": [
    "# Step 10: Display the result"
   ]
  },
  {
   "cell_type": "code",
   "execution_count": null,
   "id": "4946e503-0de8-4099-94c2-b94d910dd35c",
   "metadata": {},
   "outputs": [],
   "source": [
    "print(\"Revenue by Product:\\n\", revenue_by_product)"
   ]
  },
  {
   "cell_type": "code",
   "execution_count": null,
   "id": "922450f0-437c-4481-825f-377cabebc08a",
   "metadata": {},
   "outputs": [],
   "source": []
  },
  {
   "cell_type": "code",
   "execution_count": null,
   "id": "898dcde5-7e15-4433-bc8e-83841b29b850",
   "metadata": {},
   "outputs": [],
   "source": []
  },
  {
   "cell_type": "code",
   "execution_count": null,
   "id": "9e881583-0968-4f7e-96db-572ee666f661",
   "metadata": {},
   "outputs": [],
   "source": []
  },
  {
   "cell_type": "code",
   "execution_count": null,
   "id": "bf41b8c2-f4ac-4e07-9690-4e0cfc8e81bd",
   "metadata": {},
   "outputs": [],
   "source": []
  },
  {
   "cell_type": "code",
   "execution_count": null,
   "id": "37bf3c1b-b10e-47c9-9223-c2d58439671f",
   "metadata": {},
   "outputs": [],
   "source": []
  },
  {
   "cell_type": "code",
   "execution_count": null,
   "id": "b0921f8d-5108-41d1-8284-e892025ac799",
   "metadata": {},
   "outputs": [],
   "source": []
  }
 ],
 "metadata": {
  "kernelspec": {
   "display_name": "Python 3 (ipykernel)",
   "language": "python",
   "name": "python3"
  },
  "language_info": {
   "codemirror_mode": {
    "name": "ipython",
    "version": 3
   },
   "file_extension": ".py",
   "mimetype": "text/x-python",
   "name": "python",
   "nbconvert_exporter": "python",
   "pygments_lexer": "ipython3",
   "version": "3.11.7"
  }
 },
 "nbformat": 4,
 "nbformat_minor": 5
}
