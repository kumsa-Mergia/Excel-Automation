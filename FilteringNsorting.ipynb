{
 "cells": [
  {
   "cell_type": "code",
   "execution_count": 1,
   "id": "2420607f-f0e8-475c-970a-a2ef4009a175",
   "metadata": {},
   "outputs": [],
   "source": [
    "import pandas as pd"
   ]
  },
  {
   "cell_type": "markdown",
   "id": "3b02bbac-b623-484c-bafb-b0aad0948e66",
   "metadata": {},
   "source": [
    "# Specify the file path"
   ]
  },
  {
   "cell_type": "code",
   "execution_count": 4,
   "id": "9cc84289-8922-4dc5-b016-21d8b58b2e70",
   "metadata": {},
   "outputs": [],
   "source": [
    "file_path = r\"C:\\Users\\kumsam\\Desktop\\Excel-Automation\\file\\Large_Excel_Automation_Practice.xlsx\""
   ]
  },
  {
   "cell_type": "markdown",
   "id": "39d5532a-6f27-4912-8d44-aeba71d46047",
   "metadata": {},
   "source": [
    "# Load the Employee Data sheet"
   ]
  },
  {
   "cell_type": "code",
   "execution_count": 7,
   "id": "67a9cf59-aed2-478d-b465-aa936d3fe3f3",
   "metadata": {},
   "outputs": [
    {
     "name": "stdout",
     "output_type": "stream",
     "text": [
      "Data loaded successfully!\n"
     ]
    }
   ],
   "source": [
    "employee_data = pd.read_excel(file_path, sheet_name=\"Employee Data\")"
   ]
  },
  {
   "cell_type": "markdown",
   "id": "6442ed37-6707-453b-a534-06f85b0acf1e",
   "metadata": {},
   "source": [
    "# Sort by Salary"
   ]
  },
  {
   "cell_type": "code",
   "execution_count": 10,
   "id": "a9735036-6fde-48d6-9608-3c8290f2f371",
   "metadata": {},
   "outputs": [
    {
     "name": "stdout",
     "output_type": "stream",
     "text": [
      "Shape of data: (1000, 4)\n"
     ]
    }
   ],
   "source": [
    "sorted_employees = employee_data.sort_values(by=\"Salary\", ascending=False)"
   ]
  },
  {
   "cell_type": "markdown",
   "id": "57f61d56-eec9-43ca-a4ff-297bf90b6bac",
   "metadata": {},
   "source": [
    "# Filter employees in the IT department"
   ]
  },
  {
   "cell_type": "code",
   "execution_count": 15,
   "id": "19ae8886-a905-4bb9-b0b8-3114935cf912",
   "metadata": {},
   "outputs": [
    {
     "name": "stdout",
     "output_type": "stream",
     "text": [
      "All rows of data:\n",
      "           Date   Product  Quantity  Price\n",
      "0   2024-01-01     Mouse        65   1527\n",
      "1   2024-01-02    Laptop        20   1496\n",
      "2   2024-01-03   Monitor        39    499\n",
      "3   2024-01-04     Mouse        31    348\n",
      "4   2024-01-05   Printer        79   1684\n",
      "..         ...       ...       ...    ...\n",
      "995 2026-09-22   Monitor        68    713\n",
      "996 2026-09-23   Monitor        14    912\n",
      "997 2026-09-24     Mouse        34    409\n",
      "998 2026-09-25  Keyboard        90   1099\n",
      "999 2026-09-26     Mouse        27    940\n",
      "\n",
      "[1000 rows x 4 columns]\n"
     ]
    }
   ],
   "source": [
    "it_employees = employee_data[employee_data['Department'] == 'IT']"
   ]
  },
  {
   "cell_type": "code",
   "execution_count": 18,
   "id": "4762d88a-b2bf-46a7-9881-1aa30e01a8c1",
   "metadata": {},
   "outputs": [
    {
     "name": "stdout",
     "output_type": "stream",
     "text": [
      "First few rows of data:\n",
      "         Date  Product  Quantity  Price\n",
      "0 2024-01-01    Mouse        65   1527\n",
      "1 2024-01-02   Laptop        20   1496\n",
      "2 2024-01-03  Monitor        39    499\n",
      "3 2024-01-04    Mouse        31    348\n",
      "4 2024-01-05  Printer        79   1684\n"
     ]
    }
   ],
   "source": [
    "print(sorted_employees.head())"
   ]
  },
  {
   "cell_type": "code",
   "execution_count": 21,
   "id": "58d29c98-d987-419e-acfd-339eef7ea993",
   "metadata": {},
   "outputs": [
    {
     "name": "stdout",
     "output_type": "stream",
     "text": [
      "Columns in the dataset: Index(['Date', 'Product', 'Quantity', 'Price'], dtype='object')\n"
     ]
    }
   ],
   "source": [
    "print(it_employees.head())"
   ]
  }
 ],
 "metadata": {
  "kernelspec": {
   "display_name": "Python 3 (ipykernel)",
   "language": "python",
   "name": "python3"
  },
  "language_info": {
   "codemirror_mode": {
    "name": "ipython",
    "version": 3
   },
   "file_extension": ".py",
   "mimetype": "text/x-python",
   "name": "python",
   "nbconvert_exporter": "python",
   "pygments_lexer": "ipython3",
   "version": "3.11.7"
  }
 },
 "nbformat": 4,
 "nbformat_minor": 5
}
