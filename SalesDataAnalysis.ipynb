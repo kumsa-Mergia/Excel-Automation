{
 "cells": [
  {
   "cell_type": "code",
   "execution_count": 1,
   "id": "2420607f-f0e8-475c-970a-a2ef4009a175",
   "metadata": {},
   "outputs": [],
   "source": [
    "import pandas as pd"
   ]
  },
  {
   "cell_type": "markdown",
   "id": "3b02bbac-b623-484c-bafb-b0aad0948e66",
   "metadata": {},
   "source": [
    "# Specify the file path"
   ]
  },
  {
   "cell_type": "code",
   "execution_count": 4,
   "id": "9cc84289-8922-4dc5-b016-21d8b58b2e70",
   "metadata": {},
   "outputs": [],
   "source": [
    "file_path = r\"C:\\Users\\kumsam\\Desktop\\Excel-Automation\\file\\Large_Excel_Automation_Practice.xlsx\""
   ]
  },
  {
   "cell_type": "markdown",
   "id": "39d5532a-6f27-4912-8d44-aeba71d46047",
   "metadata": {},
   "source": [
    "# Step 1: Load the data"
   ]
  },
  {
   "cell_type": "code",
   "execution_count": 7,
   "id": "67a9cf59-aed2-478d-b465-aa936d3fe3f3",
   "metadata": {},
   "outputs": [
    {
     "name": "stdout",
     "output_type": "stream",
     "text": [
      "Data loaded successfully!\n"
     ]
    }
   ],
   "source": [
    "try:\n",
    "    sales_data = pd.read_excel(file_path, sheet_name=\"Sales Data\")\n",
    "    print(\"Data loaded successfully!\")\n",
    "except Exception as e:\n",
    "    print(f\"Error loading data: {e}\")"
   ]
  },
  {
   "cell_type": "markdown",
   "id": "6442ed37-6707-453b-a534-06f85b0acf1e",
   "metadata": {},
   "source": [
    "# Step 2: Check the data"
   ]
  },
  {
   "cell_type": "code",
   "execution_count": 10,
   "id": "a9735036-6fde-48d6-9608-3c8290f2f371",
   "metadata": {},
   "outputs": [
    {
     "name": "stdout",
     "output_type": "stream",
     "text": [
      "Shape of data: (1000, 4)\n"
     ]
    }
   ],
   "source": [
    "print(\"Shape of data:\", sales_data.shape)"
   ]
  },
  {
   "cell_type": "markdown",
   "id": "57f61d56-eec9-43ca-a4ff-297bf90b6bac",
   "metadata": {},
   "source": [
    "### All rows of data"
   ]
  },
  {
   "cell_type": "code",
   "execution_count": 15,
   "id": "19ae8886-a905-4bb9-b0b8-3114935cf912",
   "metadata": {},
   "outputs": [
    {
     "name": "stdout",
     "output_type": "stream",
     "text": [
      "All rows of data:\n",
      "           Date   Product  Quantity  Price\n",
      "0   2024-01-01     Mouse        65   1527\n",
      "1   2024-01-02    Laptop        20   1496\n",
      "2   2024-01-03   Monitor        39    499\n",
      "3   2024-01-04     Mouse        31    348\n",
      "4   2024-01-05   Printer        79   1684\n",
      "..         ...       ...       ...    ...\n",
      "995 2026-09-22   Monitor        68    713\n",
      "996 2026-09-23   Monitor        14    912\n",
      "997 2026-09-24     Mouse        34    409\n",
      "998 2026-09-25  Keyboard        90   1099\n",
      "999 2026-09-26     Mouse        27    940\n",
      "\n",
      "[1000 rows x 4 columns]\n"
     ]
    }
   ],
   "source": [
    "print(\"All rows of data:\\n\", sales_data)"
   ]
  },
  {
   "cell_type": "markdown",
   "id": "46cb1f12-63dd-4f4c-92f2-3b783729ca43",
   "metadata": {},
   "source": [
    "### First few rows of data"
   ]
  },
  {
   "cell_type": "code",
   "execution_count": 18,
   "id": "4762d88a-b2bf-46a7-9881-1aa30e01a8c1",
   "metadata": {},
   "outputs": [
    {
     "name": "stdout",
     "output_type": "stream",
     "text": [
      "First few rows of data:\n",
      "         Date  Product  Quantity  Price\n",
      "0 2024-01-01    Mouse        65   1527\n",
      "1 2024-01-02   Laptop        20   1496\n",
      "2 2024-01-03  Monitor        39    499\n",
      "3 2024-01-04    Mouse        31    348\n",
      "4 2024-01-05  Printer        79   1684\n"
     ]
    }
   ],
   "source": [
    "print(\"First few rows of data:\\n\", sales_data.head())"
   ]
  },
  {
   "cell_type": "markdown",
   "id": "c1429770-c614-411b-a0c5-14d20ecfbf0e",
   "metadata": {},
   "source": [
    "# Step 3: Check column names"
   ]
  },
  {
   "cell_type": "code",
   "execution_count": 21,
   "id": "58d29c98-d987-419e-acfd-339eef7ea993",
   "metadata": {},
   "outputs": [
    {
     "name": "stdout",
     "output_type": "stream",
     "text": [
      "Columns in the dataset: Index(['Date', 'Product', 'Quantity', 'Price'], dtype='object')\n"
     ]
    }
   ],
   "source": [
    "print(\"Columns in the dataset:\", sales_data.columns)"
   ]
  },
  {
   "cell_type": "markdown",
   "id": "56894054-f4ae-4bda-9135-bbfd0b8661a3",
   "metadata": {},
   "source": [
    "# Step 4: Check for missing values"
   ]
  },
  {
   "cell_type": "code",
   "execution_count": 24,
   "id": "59ce8258-f67d-470b-9a15-b60516823c51",
   "metadata": {},
   "outputs": [
    {
     "name": "stdout",
     "output_type": "stream",
     "text": [
      "Missing values:\n",
      " Date        0\n",
      "Product     0\n",
      "Quantity    0\n",
      "Price       0\n",
      "dtype: int64\n"
     ]
    }
   ],
   "source": [
    "print(\"Missing values:\\n\", sales_data.isnull().sum())"
   ]
  },
  {
   "cell_type": "markdown",
   "id": "f97e3392-5c39-4499-b3b1-c966da7c5460",
   "metadata": {},
   "source": [
    "# Step 5: Drop rows with missing 'Quantity' or 'Price'"
   ]
  },
  {
   "cell_type": "code",
   "execution_count": 27,
   "id": "ea8d5978-592f-4f45-80de-7f8526160a49",
   "metadata": {},
   "outputs": [],
   "source": [
    "sales_data = sales_data.dropna(subset=['Quantity', 'Price'])"
   ]
  },
  {
   "cell_type": "markdown",
   "id": "04e91940-83fe-42b9-81df-f2b62ade00a1",
   "metadata": {},
   "source": [
    "# Step 6: Convert 'Quantity' and 'Price' to numeric"
   ]
  },
  {
   "cell_type": "code",
   "execution_count": 30,
   "id": "86ce41cc-1e06-4b29-b3b1-254e9a948eeb",
   "metadata": {},
   "outputs": [],
   "source": [
    "sales_data['Quantity'] = pd.to_numeric(sales_data['Quantity'], errors='coerce')\n",
    "sales_data['Price'] = pd.to_numeric(sales_data['Price'], errors='coerce')"
   ]
  },
  {
   "cell_type": "markdown",
   "id": "8827d137-763c-415b-b526-0976e4eef6f0",
   "metadata": {},
   "source": [
    "# Step 7: Check for missing values after conversion"
   ]
  },
  {
   "cell_type": "code",
   "execution_count": 33,
   "id": "c82b5a0f-a8f5-4a85-b554-731d2e0cc42c",
   "metadata": {},
   "outputs": [
    {
     "name": "stdout",
     "output_type": "stream",
     "text": [
      "Missing values after conversion:\n",
      " Date        0\n",
      "Product     0\n",
      "Quantity    0\n",
      "Price       0\n",
      "dtype: int64\n"
     ]
    }
   ],
   "source": [
    "print(\"Missing values after conversion:\\n\", sales_data.isnull().sum())"
   ]
  },
  {
   "cell_type": "markdown",
   "id": "d635f856-afd7-4b8f-80d1-b54cf64dbf65",
   "metadata": {},
   "source": [
    "# Step 8: Add 'Total Revenue' column"
   ]
  },
  {
   "cell_type": "code",
   "execution_count": 107,
   "id": "eab5d60e-ab9e-4019-8f31-2cba950e3ca9",
   "metadata": {},
   "outputs": [],
   "source": [
    "sales_data['Total Revenue'] = sales_data['Quantity'] * sales_data['Price']"
   ]
  },
  {
   "cell_type": "markdown",
   "id": "62d2a5bf-1ce5-4712-b924-e9913fe1e3d2",
   "metadata": {},
   "source": [
    "### First few rows after adding 'Total Revenue'"
   ]
  },
  {
   "cell_type": "code",
   "execution_count": 110,
   "id": "778f347a-9a61-4ba0-bdd9-872ce19002bd",
   "metadata": {},
   "outputs": [
    {
     "name": "stdout",
     "output_type": "stream",
     "text": [
      "First few rows after adding 'Total Revenue':\n",
      "         Date  Product  Quantity  Price  Total Revenue\n",
      "0 2024-01-01    Mouse        65   1527          99255\n",
      "1 2024-01-02   Laptop        20   1496          29920\n",
      "2 2024-01-03  Monitor        39    499          19461\n",
      "3 2024-01-04    Mouse        31    348          10788\n",
      "4 2024-01-05  Printer        79   1684         133036\n"
     ]
    }
   ],
   "source": [
    "print(\"First few rows after adding 'Total Revenue':\\n\", sales_data.head())"
   ]
  },
  {
   "cell_type": "markdown",
   "id": "b34386f0-ff9e-4bab-b281-7e371e4e6742",
   "metadata": {},
   "source": [
    "# Step 9: Summarize revenue by product"
   ]
  },
  {
   "cell_type": "code",
   "execution_count": 113,
   "id": "0585351a-0502-489c-abe0-b0ec2c0e5d85",
   "metadata": {},
   "outputs": [],
   "source": [
    "revenue_by_product = sales_data.groupby('Product')['Total Revenue'].sum()"
   ]
  },
  {
   "cell_type": "markdown",
   "id": "4af4fe91-d2e2-44fc-92c1-c7913d860f7c",
   "metadata": {},
   "source": [
    "# Step 10: Display the result"
   ]
  },
  {
   "cell_type": "code",
   "execution_count": 116,
   "id": "4946e503-0de8-4099-94c2-b94d910dd35c",
   "metadata": {},
   "outputs": [
    {
     "name": "stdout",
     "output_type": "stream",
     "text": [
      "Revenue by Product:\n",
      " Product\n",
      "Keyboard     9733131\n",
      "Laptop       9341842\n",
      "Monitor     11080145\n",
      "Mouse       12845839\n",
      "Printer      9673461\n",
      "Name: Total Revenue, dtype: int64\n"
     ]
    }
   ],
   "source": [
    "print(\"Revenue by Product:\\n\", revenue_by_product)"
   ]
  },
  {
   "cell_type": "markdown",
   "id": "206bd898-8484-4918-81a1-73c135427355",
   "metadata": {},
   "source": [
    "## Filter rows where the 'Product' column is 'Laptop'"
   ]
  },
  {
   "cell_type": "code",
   "execution_count": 119,
   "id": "898dcde5-7e15-4433-bc8e-83841b29b850",
   "metadata": {},
   "outputs": [
    {
     "name": "stdout",
     "output_type": "stream",
     "text": [
      "Revenue by Product:\n",
      "           Date Product  Quantity  Price  Total Revenue\n",
      "1   2024-01-02  Laptop        20   1496          29920\n",
      "9   2024-01-10  Laptop        92   1536         141312\n",
      "19  2024-01-20  Laptop         3   1847           5541\n",
      "22  2024-01-23  Laptop        12    232           2784\n",
      "28  2024-01-29  Laptop        82    812          66584\n",
      "..         ...     ...       ...    ...            ...\n",
      "969 2026-08-27  Laptop        42    237           9954\n",
      "984 2026-09-11  Laptop        37    324          11988\n",
      "987 2026-09-14  Laptop        19   1204          22876\n",
      "988 2026-09-15  Laptop        81   1088          88128\n",
      "994 2026-09-21  Laptop        25    933          23325\n",
      "\n",
      "[190 rows x 5 columns]\n"
     ]
    }
   ],
   "source": [
    "Laptop_filtered = sales_data[sales_data['Product'] == 'Laptop']\n",
    "print(\"Revenue by Product:\\n\", filtered_data)"
   ]
  },
  {
   "cell_type": "markdown",
   "id": "4b7b8e68-cd1b-4531-a4d5-d6fa2bfe18fb",
   "metadata": {},
   "source": [
    "## Filter rows where the 'Product' column is 'Keyboard'"
   ]
  },
  {
   "cell_type": "code",
   "execution_count": 122,
   "id": "bf41b8c2-f4ac-4e07-9690-4e0cfc8e81bd",
   "metadata": {},
   "outputs": [
    {
     "name": "stdout",
     "output_type": "stream",
     "text": [
      "Revenue by Product:\n",
      "           Date   Product  Quantity  Price  Total Revenue\n",
      "5   2024-01-06  Keyboard        98    663          64974\n",
      "7   2024-01-08  Keyboard        48    221          10608\n",
      "12  2024-01-13  Keyboard        73    730          53290\n",
      "25  2024-01-26  Keyboard         5    617           3085\n",
      "30  2024-01-31  Keyboard        42   1154          48468\n",
      "..         ...       ...       ...    ...            ...\n",
      "971 2026-08-29  Keyboard        56   1777          99512\n",
      "972 2026-08-30  Keyboard        28   1581          44268\n",
      "976 2026-09-03  Keyboard        12   1335          16020\n",
      "986 2026-09-13  Keyboard        54    965          52110\n",
      "998 2026-09-25  Keyboard        90   1099          98910\n",
      "\n",
      "[186 rows x 5 columns]\n"
     ]
    }
   ],
   "source": [
    "Keyboard_filtered = sales_data[sales_data['Product'] == 'Keyboard']\n",
    "print(\"Revenue by Product:\\n\", Keyboard_filtered)"
   ]
  },
  {
   "cell_type": "markdown",
   "id": "59116137-103d-4642-8530-5b7ac64dfd56",
   "metadata": {},
   "source": [
    "## Filter rows where the 'Product' column is 'Monitor'"
   ]
  },
  {
   "cell_type": "code",
   "execution_count": 125,
   "id": "37bf3c1b-b10e-47c9-9223-c2d58439671f",
   "metadata": {},
   "outputs": [
    {
     "name": "stdout",
     "output_type": "stream",
     "text": [
      "Revenue by Product:\n",
      "           Date  Product  Quantity  Price  Total Revenue\n",
      "2   2024-01-03  Monitor        39    499          19461\n",
      "8   2024-01-09  Monitor         6   1765          10590\n",
      "14  2024-01-15  Monitor        94   1705         160270\n",
      "16  2024-01-17  Monitor        50    576          28800\n",
      "20  2024-01-21  Monitor        76   1429         108604\n",
      "..         ...      ...       ...    ...            ...\n",
      "990 2026-09-17  Monitor         1    653            653\n",
      "991 2026-09-18  Monitor         3    831           2493\n",
      "993 2026-09-20  Monitor        94    122          11468\n",
      "995 2026-09-22  Monitor        68    713          48484\n",
      "996 2026-09-23  Monitor        14    912          12768\n",
      "\n",
      "[212 rows x 5 columns]\n"
     ]
    }
   ],
   "source": [
    "Monitor_filtered = sales_data[sales_data['Product'] == 'Monitor']\n",
    "print(\"Revenue by Product:\\n\", Monitor_filtered)"
   ]
  },
  {
   "cell_type": "markdown",
   "id": "03552316-0cfa-4065-a2d9-2e225a5d0894",
   "metadata": {},
   "source": [
    "## Filter rows where the 'Product' column is 'Mouse'"
   ]
  },
  {
   "cell_type": "code",
   "execution_count": 128,
   "id": "b0921f8d-5108-41d1-8284-e892025ac799",
   "metadata": {},
   "outputs": [
    {
     "name": "stdout",
     "output_type": "stream",
     "text": [
      "Revenue by Product:\n",
      "           Date Product  Quantity  Price  Total Revenue\n",
      "0   2024-01-01   Mouse        65   1527          99255\n",
      "3   2024-01-04   Mouse        31    348          10788\n",
      "6   2024-01-07   Mouse        94    205          19270\n",
      "13  2024-01-14   Mouse        71    109           7739\n",
      "15  2024-01-16   Mouse         5   1040           5200\n",
      "..         ...     ...       ...    ...            ...\n",
      "975 2026-09-02   Mouse        30    762          22860\n",
      "983 2026-09-10   Mouse        88    909          79992\n",
      "989 2026-09-16   Mouse        98    853          83594\n",
      "997 2026-09-24   Mouse        34    409          13906\n",
      "999 2026-09-26   Mouse        27    940          25380\n",
      "\n",
      "[228 rows x 5 columns]\n"
     ]
    }
   ],
   "source": [
    "Mouse_filtered = sales_data[sales_data['Product'] == 'Mouse']\n",
    "print(\"Revenue by Product:\\n\", Mouse_filtered)"
   ]
  },
  {
   "cell_type": "markdown",
   "id": "838d06d6-c9d3-4399-b8c5-64642043e1de",
   "metadata": {},
   "source": [
    "## Filter rows where the 'Product' column is 'Printer'"
   ]
  },
  {
   "cell_type": "code",
   "execution_count": 131,
   "id": "6bce216d-c41b-46c1-9804-40cff986c27f",
   "metadata": {},
   "outputs": [
    {
     "name": "stdout",
     "output_type": "stream",
     "text": [
      "Revenue by Product:\n",
      "           Date  Product  Quantity  Price  Total Revenue\n",
      "4   2024-01-05  Printer        79   1684         133036\n",
      "10  2024-01-11  Printer        22     80           1760\n",
      "11  2024-01-12  Printer         7   1505          10535\n",
      "17  2024-01-18  Printer        26    190           4940\n",
      "18  2024-01-19  Printer        16   1985          31760\n",
      "..         ...      ...       ...    ...            ...\n",
      "980 2026-09-07  Printer        67   1932         129444\n",
      "981 2026-09-08  Printer        13   1515          19695\n",
      "982 2026-09-09  Printer        75     73           5475\n",
      "985 2026-09-12  Printer        29   1707          49503\n",
      "992 2026-09-19  Printer        14   1616          22624\n",
      "\n",
      "[184 rows x 5 columns]\n"
     ]
    }
   ],
   "source": [
    "Printer_filtered = sales_data[sales_data['Product'] == 'Printer']\n",
    "print(\"Revenue by Product:\\n\", Printer_filtered)"
   ]
  },
  {
   "cell_type": "code",
   "execution_count": null,
   "id": "81890cb0-1e39-4bbf-a6f6-70fef5eb892d",
   "metadata": {},
   "outputs": [],
   "source": []
  }
 ],
 "metadata": {
  "kernelspec": {
   "display_name": "Python 3 (ipykernel)",
   "language": "python",
   "name": "python3"
  },
  "language_info": {
   "codemirror_mode": {
    "name": "ipython",
    "version": 3
   },
   "file_extension": ".py",
   "mimetype": "text/x-python",
   "name": "python",
   "nbconvert_exporter": "python",
   "pygments_lexer": "ipython3",
   "version": "3.11.7"
  }
 },
 "nbformat": 4,
 "nbformat_minor": 5
}
